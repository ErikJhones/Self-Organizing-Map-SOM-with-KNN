{
 "cells": [
  {
   "cell_type": "code",
   "execution_count": null,
   "metadata": {},
   "outputs": [],
   "source": [
    "import numpy as np\n",
    "v = np.array([2,5])\n",
    "np.linalg.norm(v)"
   ]
  },
  {
   "cell_type": "code",
   "execution_count": null,
   "metadata": {},
   "outputs": [],
   "source": [
    "import sys\n",
    "sys.path.insert(0, '../')\n",
    "from minisom import MiniSom\n",
    "\n",
    "import numpy as np\n",
    "import matplotlib.pyplot as plt\n",
    "from matplotlib.gridspec import GridSpec\n",
    "%matplotlib inline\n",
    "\n",
    "# read the image\n",
    "img = plt.imread('a.jpeg')\n",
    "\n",
    "# reshaping the pixels matrix\n",
    "pixels = np.reshape(img, (img.shape[0]*img.shape[1], 3))\n",
    "pixels = np.reshape(img, (img.shape[0]*img.shape[1], 3)) / 255.\n",
    "\n",
    "# SOM initialization and training\n",
    "print('training...')\n",
    "som = MiniSom(1, 9, 3, sigma=1.,\n",
    "              learning_rate=0.2, neighborhood_function='bubble')  # 3x3 = 9 final colors\n",
    "\n",
    "som.random_weights_init(pixels)\n",
    "\n",
    "starting_weights = som.get_weights().copy()  # saving the starting weights\n",
    "\n",
    "som.train_random(pixels, 10000, verbose=True)\n",
    "\n",
    "\n",
    "print('quantization...')\n",
    "qnt = som.quantization(pixels)  # quantize each pixels of the image\n",
    "print('building new image...')\n",
    "clustered = np.zeros(img.shape)\n",
    "\n",
    "for i, q in enumerate(qnt):  # place the quantized values into a new image\n",
    "    clustered[np.unravel_index(i, dims=(img.shape[0], img.shape[1]))] = q\n",
    "print('done.')\n",
    "\n",
    "# show the result\n",
    "plt.figure(figsize=(7, 7))\n",
    "plt.figure(1)\n",
    "plt.subplot(221)\n",
    "plt.title('original')\n",
    "plt.imshow(img)\n",
    "plt.subplot(222)\n",
    "plt.title('result')\n",
    "plt.imshow(clustered)\n",
    "\n",
    "plt.subplot(223)\n",
    "plt.title('initial colors')\n",
    "plt.imshow(starting_weights, interpolation='none')\n",
    "plt.subplot(224)\n",
    "plt.title('learned colors')\n",
    "plt.imshow(som.get_weights(), interpolation='none')\n",
    "\n",
    "plt.tight_layout()\n",
    "plt.show()"
   ]
  },
  {
   "cell_type": "code",
   "execution_count": null,
   "metadata": {},
   "outputs": [],
   "source": [
    "#https://pydoc.net/MiniSom/2.2.3/minisom/\n",
    "#https://matplotlib.org/3.1.1/gallery/lines_bars_and_markers/scatter_with_legend.html\n",
    "#https://stackoverflow.com/questions/14432557/matplotlib-scatter-plot-with-different-text-at-each-data-point\n",
    "#https://github.com/JustGlowing/minisom/blob/master/examples/Clustering.ipynb\n"
   ]
  },
  {
   "cell_type": "code",
   "execution_count": null,
   "metadata": {},
   "outputs": [],
   "source": [
    "from minisom import MiniSom\n",
    "import numpy as np\n",
    "\n",
    "data = np.genfromtxt('iris.data', delimiter=',', usecols=(0, 1, 2, 3))\n",
    "data = np.apply_along_axis(lambda x: x/np.linalg.norm(x), 1, data)\n",
    "labels = np.genfromtxt('iris.data', delimiter=',', usecols=(4), dtype=str)"
   ]
  },
  {
   "cell_type": "code",
   "execution_count": null,
   "metadata": {},
   "outputs": [],
   "source": [
    "def classify(som, data):\n",
    "    \"\"\"Classifies each sample in data in one of the classes definited\n",
    "    using the method labels_map.\n",
    "    Returns a list of the same length of data where the i-th element\n",
    "    is the class assigned to data[i].\n",
    "    \"\"\"\n",
    "    winmap = som.labels_map(X_train, y_train)\n",
    "   \n",
    "    default_class = np.sum(list(winmap.values())).most_common()[0][0]\n",
    "    \n",
    "    result = []\n",
    "    for d in data:\n",
    "        win_position = som.winner(d)\n",
    "        #print(win_position)\n",
    "        if win_position in winmap:\n",
    "            result.append(winmap[win_position].most_common()[0][0])\n",
    "        else:\n",
    "            result.append(default_class)\n",
    "    return result"
   ]
  },
  {
   "cell_type": "code",
   "execution_count": null,
   "metadata": {},
   "outputs": [],
   "source": [
    "from sklearn.model_selection import train_test_split\n",
    "from sklearn.metrics import classification_report\n",
    "\n",
    "X_train, X_test, y_train, y_test = train_test_split(df.values, y, stratify=y)\n",
    "\n",
    "som = MiniSom(20, 20, 4, sigma=3, learning_rate=0.5, \n",
    "              neighborhood_function='triangle', random_seed=10)\n",
    "som.pca_weights_init(X_train)\n",
    "som.train_random(X_train, 500, verbose=False)\n",
    "\n",
    "print(classification_report(y_test, classify(som, X_test)))"
   ]
  },
  {
   "cell_type": "code",
   "execution_count": null,
   "metadata": {},
   "outputs": [],
   "source": [
    "from sklearn.preprocessing import LabelEncoder\n",
    "item_encoder = LabelEncoder()\n",
    "labels = item_encoder.fit_transform(labels)\n"
   ]
  },
  {
   "cell_type": "code",
   "execution_count": null,
   "metadata": {},
   "outputs": [],
   "source": [
    "visualize(data, color=labels)"
   ]
  },
  {
   "cell_type": "code",
   "execution_count": null,
   "metadata": {},
   "outputs": [],
   "source": []
  },
  {
   "cell_type": "code",
   "execution_count": null,
   "metadata": {},
   "outputs": [],
   "source": []
  },
  {
   "cell_type": "code",
   "execution_count": null,
   "metadata": {},
   "outputs": [],
   "source": []
  },
  {
   "cell_type": "code",
   "execution_count": null,
   "metadata": {},
   "outputs": [],
   "source": []
  }
 ],
 "metadata": {
  "kernelspec": {
   "display_name": "Python 3",
   "language": "python",
   "name": "python3"
  },
  "language_info": {
   "codemirror_mode": {
    "name": "ipython",
    "version": 3
   },
   "file_extension": ".py",
   "mimetype": "text/x-python",
   "name": "python",
   "nbconvert_exporter": "python",
   "pygments_lexer": "ipython3",
   "version": "3.6.9"
  }
 },
 "nbformat": 4,
 "nbformat_minor": 4
}
